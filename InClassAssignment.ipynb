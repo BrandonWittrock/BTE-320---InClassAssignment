{
  "nbformat": 4,
  "nbformat_minor": 0,
  "metadata": {
    "colab": {
      "provenance": [],
      "authorship_tag": "ABX9TyNR3P2Jbrlr0DxTXyGxZC5e",
      "include_colab_link": true
    },
    "kernelspec": {
      "name": "python3",
      "display_name": "Python 3"
    },
    "language_info": {
      "name": "python"
    }
  },
  "cells": [
    {
      "cell_type": "markdown",
      "metadata": {
        "id": "view-in-github",
        "colab_type": "text"
      },
      "source": [
        "<a href=\"https://colab.research.google.com/github/BrandonWittrock/BTE-320---InClassAssignment/blob/main/InClassAssignment.ipynb\" target=\"_parent\"><img src=\"https://colab.research.google.com/assets/colab-badge.svg\" alt=\"Open In Colab\"/></a>"
      ]
    },
    {
      "cell_type": "code",
      "execution_count": null,
      "metadata": {
        "id": "toGyuDiBTsuH",
        "colab": {
          "base_uri": "https://localhost:8080/"
        },
        "outputId": "1b135680-ce6e-4087-a859-396125e9a90e"
      },
      "outputs": [
        {
          "output_type": "stream",
          "name": "stdout",
          "text": [
            "Provide a value for the raidus (in ft): 4\n",
            "Provide value for side of sq: 4\n",
            "Provide height value: 4\n",
            "Area is 200.96 sq ft.\n",
            "Program ends... \n"
          ]
        }
      ],
      "source": [
        "pi = 3.14\n",
        "r = float(input('Provide a value for the raidus (in ft): '))\n",
        "c = float(input('Provide value for side of sq: '))\n",
        "h = float(input(\"Provide height value: \"))\n",
        "shape = 'cylinder'\n",
        "\n",
        "if shape == 'circle':\n",
        "  area = pi * r ** 2\n",
        "  print (f'Area is {area} sq ft.')\n",
        "\n",
        "elif shape == 'sq':\n",
        "  area = c * c\n",
        "  print(f'Area is {area} sq ft.')\n",
        "\n",
        "elif shape == 'triangle':\n",
        "    area = .5 * c * h\n",
        "\n",
        "elif shape == 'cylinder':\n",
        "    area = 2 * pi * r * h + 2 * pi * r ** 2\n",
        "    print(f'Area is {area} sq ft.')\n",
        "\n",
        "print('Program ends... ')"
      ]
    },
    {
      "cell_type": "code",
      "source": [
        "import random\n",
        "\n",
        "user_input = input('Do you want to play a game? (y/n): ')\n",
        "while user_input == 'y':\n",
        "    pc_choice = random.choice(['rock', 'paper', 'scissors'])\n",
        "    user_choice = input('Enter rock, paper, or scissors: ')\n",
        "    print('PC Choice:', pc_choice)\n",
        "\n",
        "    if pc_choice == user_choice:\n",
        "        print('Tie')\n",
        "    elif (pc_choice == 'paper' and user_choice == 'scissors') or (pc_choice == 'scissors' and user_choice == 'rock') or (pc_choice == 'rock' and user_choice == 'paper'):\n",
        "        print('User Wins')\n",
        "    else:\n",
        "        print('PC Wins')\n",
        "\n",
        "    user_input = input('Do you want to play again? (y/n): ')"
      ],
      "metadata": {
        "colab": {
          "base_uri": "https://localhost:8080/"
        },
        "id": "atqiN17CTtcp",
        "outputId": "ed670136-f16c-49a9-a30b-f9bd8d99b743"
      },
      "execution_count": null,
      "outputs": [
        {
          "name": "stdout",
          "output_type": "stream",
          "text": [
            "Do you want to play a game? (y/n): n\n"
          ]
        }
      ]
    },
    {
      "cell_type": "code",
      "source": [
        "while True:\n",
        "  question = input('Would you like to use the calculator (y/n): ')\n",
        "  if question == 'n':\n",
        "    break\n",
        "  elif question =='y':\n",
        "    x = int(input('Enter any number: '))\n",
        "    operator = input('Enter an operator(+,-,*,/,//,%,**): ')\n",
        "    y = int(input('Enter another number: '))\n",
        "    if operator == '+':\n",
        "      print(x+y)\n",
        "    elif operator == '-':\n",
        "      print(x-y)\n",
        "    elif operator == '*':\n",
        "      print(x*y)\n",
        "    elif operator == '/':\n",
        "      print(x/y)\n",
        "    elif operator == '//':\n",
        "      print(x//y)\n",
        "    elif operator == '%':\n",
        "      print(x%y)\n",
        "    elif operator == '**':\n",
        "      print(x**y)"
      ],
      "metadata": {
        "colab": {
          "base_uri": "https://localhost:8080/"
        },
        "id": "xJVTXuOJU4oF",
        "outputId": "a118b64c-fe4a-45b9-deb5-0ac0dead0fe3"
      },
      "execution_count": null,
      "outputs": [
        {
          "name": "stdout",
          "output_type": "stream",
          "text": [
            "Would you like to use the calculator (y/n): y\n",
            "Enter any number: 8\n",
            "Enter an operator(+,-,*,/,//,%,**): +\n",
            "Enter another number: 10\n",
            "18\n",
            "Would you like to use the calculator (y/n): 8\n",
            "Would you like to use the calculator (y/n): *\n",
            "Would you like to use the calculator (y/n): 8\n",
            "Would you like to use the calculator (y/n): y\n",
            "Enter any number: 8\n",
            "Enter an operator(+,-,*,/,//,%,**): **\n",
            "Enter another number: 8\n",
            "16777216\n",
            "Would you like to use the calculator (y/n): n\n"
          ]
        }
      ]
    },
    {
      "cell_type": "code",
      "source": [
        "flatRate = 5\n",
        "hourlyRate = 2.5\n",
        "for h in range(1, 9):\n",
        "  charge = flatRate + hourlyRate * h\n",
        "  if charge < 10:\n",
        "    charge = 10\n",
        "  elif charge > 20:\n",
        "    charge = 20\n",
        "  print(h, charge)"
      ],
      "metadata": {
        "id": "cKjHXPdgXUZT"
      },
      "execution_count": null,
      "outputs": []
    },
    {
      "cell_type": "code",
      "source": [
        "init_attendees = 20\n",
        "fixed_cost = 200\n",
        "\n",
        "for advertising in range(0, 201, 25):\n",
        "  attendees = float(2*round(advertising**0.5) + init_attendees)\n",
        "  profit = float((attendees * 10) - advertising - fixed_cost)\n",
        "  print(f'{advertising} ${profit}')"
      ],
      "metadata": {
        "id": "SDm_n80XVzSf",
        "colab": {
          "base_uri": "https://localhost:8080/"
        },
        "outputId": "f8b169e8-f41d-4d04-baee-2328fb4b629a"
      },
      "execution_count": null,
      "outputs": [
        {
          "output_type": "stream",
          "name": "stdout",
          "text": [
            "0 $0.0\n",
            "25 $75.0\n",
            "50 $90.0\n",
            "75 $105.0\n",
            "100 $100.0\n",
            "125 $95.0\n",
            "150 $90.0\n",
            "175 $85.0\n",
            "200 $80.0\n"
          ]
        }
      ]
    },
    {
      "cell_type": "code",
      "source": [
        "months = {}\n",
        "numbers = [1,2,3,4,5,6,7,8,9,10,11,12]\n",
        "names = ['Jan', 'Feb', 'Mar', 'Apr', 'May', 'Jun', 'Jul', 'Aug', 'Sep', 'Oct', 'Nov', 'Dec']\n",
        "\n",
        "for num in numbers:\n",
        "  months[num] = names[num - 1]\n",
        "\n",
        "print(months)"
      ],
      "metadata": {
        "id": "2s5mBKyzXRC_"
      },
      "execution_count": null,
      "outputs": []
    },
    {
      "cell_type": "code",
      "source": [
        "def displayFee(fee):\n",
        "  print(fee)\n",
        "def calcFee(hours, decimals=2):\n",
        "  fee = 5 + hours * 2.5\n",
        "  fee = round(fee, decimals)\n",
        "  return fee\n",
        "if __name__ == \"__main__\":\n",
        "  h = int(input('Enter number of hours: '))\n",
        "  displayFee(calcFee(h))"
      ],
      "metadata": {
        "colab": {
          "base_uri": "https://localhost:8080/"
        },
        "id": "Ua8TMK6ziNR4",
        "outputId": "12233669-aa75-4c17-ba97-fcd6d0c9bf65"
      },
      "execution_count": null,
      "outputs": [
        {
          "output_type": "stream",
          "name": "stdout",
          "text": [
            "Give initial amount ($): 1001\n",
            "Give years of investment: 1\n",
            "1033.5325\n"
          ]
        }
      ]
    },
    {
      "cell_type": "code",
      "source": [
        "def reverse(s):\n",
        "  if len(s) == 1:\n",
        "    return s\n",
        "  else:\n",
        "    return s[-1] + reverse(s[1:-1]) + s[0]\n",
        "    return reverse(s[1:]) + s[0]\n",
        "    return s[-1] + reverse(s[:-1])\n",
        "reverse('Hello')"
      ],
      "metadata": {
        "id": "eeHYNHH36o4N"
      },
      "execution_count": null,
      "outputs": []
    },
    {
      "cell_type": "code",
      "source": [
        "portion_down_payment = 0.25\n",
        "r = 0.04\n",
        "\n",
        "annual_salary = float(input(\"Enter your annual salary: \"))\n",
        "portion_saved = float(input(\"Enter the percent of your salary to save, as a decimal: \"))\n",
        "total_cost = float(input(\"Enter the cost of your dream home: \"))\n",
        "\n",
        "monthly_salary = annual_salary / 12\n",
        "current_savings = 0.0\n",
        "down_payment = total_cost * portion_down_payment\n",
        "months = 0\n",
        "while current_savings < down_payment:\n",
        "    current_savings += current_savings * (r / 12) + (portion_saved * monthly_salary)\n",
        "    months += 1\n",
        "print(f\"Number of months: {months}\")"
      ],
      "metadata": {
        "colab": {
          "base_uri": "https://localhost:8080/"
        },
        "id": "tQwlLhcva-sq",
        "outputId": "054bf34f-9a24-4f94-88ec-b5ec376294ec"
      },
      "execution_count": null,
      "outputs": [
        {
          "output_type": "stream",
          "name": "stdout",
          "text": [
            "Enter your annual salary: 100000\n",
            "Enter the percent of your salary to save, as a decimal: .25\n",
            "Enter the cost of your dream home: 2000000\n",
            "Number of months: 177\n"
          ]
        }
      ]
    },
    {
      "cell_type": "code",
      "source": [
        "portion_down_payment = 0.25\n",
        "r = 0.04\n",
        "\n",
        "annual_salary = float(input(\"Enter your annual salary: \"))\n",
        "portion_saved = float(input(\"Enter the percent of your salary to save, as a decimal: \"))\n",
        "total_cost = float(input(\"Enter the cost of your dream home: \"))\n",
        "semi_annual_raise = float(input(\"Enter the semi-annual raise, as a decimal: \"))\n",
        "\n",
        "\n",
        "monthly_salary = annual_salary / 12\n",
        "current_savings = 0.0\n",
        "down_payment = total_cost * portion_down_payment\n",
        "months = 0\n",
        "\n",
        "\n",
        "while current_savings < down_payment:\n",
        "    current_savings += current_savings * (r / 12) + (portion_saved * monthly_salary)\n",
        "    months += 1\n",
        "    if months % 6 == 0:\n",
        "        annual_salary += annual_salary * semi_annual_raise\n",
        "        monthly_salary = annual_salary / 12\n",
        "\n",
        "print(f\"Number of months: {months}\")"
      ],
      "metadata": {
        "colab": {
          "base_uri": "https://localhost:8080/"
        },
        "id": "XOvEK7x5bZcL",
        "outputId": "10438548-9029-4fff-9f08-7259204ca077"
      },
      "execution_count": null,
      "outputs": [
        {
          "output_type": "stream",
          "name": "stdout",
          "text": [
            "Enter your annual salary: 100000\n",
            "Enter the percent of your salary to save, as a decimal: .25\n",
            "Enter the cost of your dream home: 2000000\n",
            "Enter the semi-annual raise, as a decimal: .01\n",
            "Number of months: 162\n"
          ]
        }
      ]
    },
    {
      "cell_type": "code",
      "source": [
        "def range_check(number, low, high):\n",
        "\n",
        "    if low <= number <= high:\n",
        "        print(f\"{number} is within the range {low} to {high}.\")\n",
        "    else:\n",
        "        print(f\"{number} is not within the range {low} to {high}.\")\n",
        "number = float(input(\"Enter the number to check: \"))\n",
        "low = float(input(\"Enter the lower bound of the range: \"))\n",
        "high = float(input(\"Enter the upper bound of the range: \"))\n",
        "\n",
        "range_check(number, low, high)"
      ],
      "metadata": {
        "colab": {
          "base_uri": "https://localhost:8080/"
        },
        "id": "PDfI7yVVbwVT",
        "outputId": "ac08b367-08d7-4d02-f270-4ef40ea91970"
      },
      "execution_count": null,
      "outputs": [
        {
          "output_type": "stream",
          "name": "stdout",
          "text": [
            "Enter the number to check: 8\n",
            "Enter the lower bound of the range: 10\n",
            "Enter the upper bound of the range: 12\n",
            "8.0 is NOT within the range 10.0 to 12.0.\n"
          ]
        }
      ]
    },
    {
      "cell_type": "code",
      "source": [
        "def range_check(number, low, high):\n",
        "    return low <= number <= high\n",
        "\n",
        "\n",
        "number = float(input(\"Enter the number to check: \"))\n",
        "low = float(input(\"Enter the lower bound of the range: \"))\n",
        "high = float(input(\"Enter the upper bound of the range: \"))\n",
        "\n",
        "result = range_check(number, low, high)\n",
        "if result:\n",
        "    print(f\"{number} is within the range {low} to {high}.\")\n",
        "else:\n",
        "    print(f\"{number} is not within the range {low} to {high}.\")"
      ],
      "metadata": {
        "colab": {
          "base_uri": "https://localhost:8080/"
        },
        "id": "2PbyZaNHcgD8",
        "outputId": "89e2565b-1156-4970-c99e-f4119ead1e43"
      },
      "execution_count": null,
      "outputs": [
        {
          "output_type": "stream",
          "name": "stdout",
          "text": [
            "Enter the number to check: 8\n",
            "Enter the lower bound of the range: 10\n",
            "Enter the upper bound of the range: 12\n",
            "8.0 is not within the range 10.0 to 12.0.\n"
          ]
        }
      ]
    }
  ]
}